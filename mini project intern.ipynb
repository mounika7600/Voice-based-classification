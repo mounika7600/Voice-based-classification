{
 "cells": [
  {
   "cell_type": "code",
   "execution_count": 1,
   "id": "cbd879c0",
   "metadata": {},
   "outputs": [],
   "source": [
    "import pandas as pd\n",
    "import numpy as np\n",
    "import matplotlib.pyplot as plt"
   ]
  },
  {
   "cell_type": "code",
   "execution_count": 2,
   "id": "2eefbcc5",
   "metadata": {},
   "outputs": [
    {
     "data": {
      "text/plain": [
       "(3168, 21)"
      ]
     },
     "execution_count": 2,
     "metadata": {},
     "output_type": "execute_result"
    }
   ],
   "source": [
    "df=pd.read_csv(\"voice.csv\")\n",
    "df.shape"
   ]
  },
  {
   "cell_type": "code",
   "execution_count": 3,
   "id": "d6636f32",
   "metadata": {},
   "outputs": [
    {
     "data": {
      "text/html": [
       "<div>\n",
       "<style scoped>\n",
       "    .dataframe tbody tr th:only-of-type {\n",
       "        vertical-align: middle;\n",
       "    }\n",
       "\n",
       "    .dataframe tbody tr th {\n",
       "        vertical-align: top;\n",
       "    }\n",
       "\n",
       "    .dataframe thead th {\n",
       "        text-align: right;\n",
       "    }\n",
       "</style>\n",
       "<table border=\"1\" class=\"dataframe\">\n",
       "  <thead>\n",
       "    <tr style=\"text-align: right;\">\n",
       "      <th></th>\n",
       "      <th>meanfreq</th>\n",
       "      <th>sd</th>\n",
       "      <th>median</th>\n",
       "      <th>Q25</th>\n",
       "      <th>Q75</th>\n",
       "      <th>IQR</th>\n",
       "      <th>skew</th>\n",
       "      <th>kurt</th>\n",
       "      <th>sp.ent</th>\n",
       "      <th>sfm</th>\n",
       "      <th>...</th>\n",
       "      <th>centroid</th>\n",
       "      <th>meanfun</th>\n",
       "      <th>minfun</th>\n",
       "      <th>maxfun</th>\n",
       "      <th>meandom</th>\n",
       "      <th>mindom</th>\n",
       "      <th>maxdom</th>\n",
       "      <th>dfrange</th>\n",
       "      <th>modindx</th>\n",
       "      <th>label</th>\n",
       "    </tr>\n",
       "  </thead>\n",
       "  <tbody>\n",
       "    <tr>\n",
       "      <th>0</th>\n",
       "      <td>0.059781</td>\n",
       "      <td>0.064241</td>\n",
       "      <td>0.032027</td>\n",
       "      <td>0.015071</td>\n",
       "      <td>0.090193</td>\n",
       "      <td>0.075122</td>\n",
       "      <td>12.863462</td>\n",
       "      <td>274.402906</td>\n",
       "      <td>0.893369</td>\n",
       "      <td>0.491918</td>\n",
       "      <td>...</td>\n",
       "      <td>0.059781</td>\n",
       "      <td>0.084279</td>\n",
       "      <td>0.015702</td>\n",
       "      <td>0.275862</td>\n",
       "      <td>0.007812</td>\n",
       "      <td>0.007812</td>\n",
       "      <td>0.007812</td>\n",
       "      <td>0.000000</td>\n",
       "      <td>0.000000</td>\n",
       "      <td>male</td>\n",
       "    </tr>\n",
       "    <tr>\n",
       "      <th>1</th>\n",
       "      <td>0.066009</td>\n",
       "      <td>0.067310</td>\n",
       "      <td>0.040229</td>\n",
       "      <td>0.019414</td>\n",
       "      <td>0.092666</td>\n",
       "      <td>0.073252</td>\n",
       "      <td>22.423285</td>\n",
       "      <td>634.613855</td>\n",
       "      <td>0.892193</td>\n",
       "      <td>0.513724</td>\n",
       "      <td>...</td>\n",
       "      <td>0.066009</td>\n",
       "      <td>0.107937</td>\n",
       "      <td>0.015826</td>\n",
       "      <td>0.250000</td>\n",
       "      <td>0.009014</td>\n",
       "      <td>0.007812</td>\n",
       "      <td>0.054688</td>\n",
       "      <td>0.046875</td>\n",
       "      <td>0.052632</td>\n",
       "      <td>male</td>\n",
       "    </tr>\n",
       "    <tr>\n",
       "      <th>2</th>\n",
       "      <td>0.077316</td>\n",
       "      <td>0.083829</td>\n",
       "      <td>0.036718</td>\n",
       "      <td>0.008701</td>\n",
       "      <td>0.131908</td>\n",
       "      <td>0.123207</td>\n",
       "      <td>30.757155</td>\n",
       "      <td>1024.927705</td>\n",
       "      <td>0.846389</td>\n",
       "      <td>0.478905</td>\n",
       "      <td>...</td>\n",
       "      <td>0.077316</td>\n",
       "      <td>0.098706</td>\n",
       "      <td>0.015656</td>\n",
       "      <td>0.271186</td>\n",
       "      <td>0.007990</td>\n",
       "      <td>0.007812</td>\n",
       "      <td>0.015625</td>\n",
       "      <td>0.007812</td>\n",
       "      <td>0.046512</td>\n",
       "      <td>male</td>\n",
       "    </tr>\n",
       "    <tr>\n",
       "      <th>3</th>\n",
       "      <td>0.151228</td>\n",
       "      <td>0.072111</td>\n",
       "      <td>0.158011</td>\n",
       "      <td>0.096582</td>\n",
       "      <td>0.207955</td>\n",
       "      <td>0.111374</td>\n",
       "      <td>1.232831</td>\n",
       "      <td>4.177296</td>\n",
       "      <td>0.963322</td>\n",
       "      <td>0.727232</td>\n",
       "      <td>...</td>\n",
       "      <td>0.151228</td>\n",
       "      <td>0.088965</td>\n",
       "      <td>0.017798</td>\n",
       "      <td>0.250000</td>\n",
       "      <td>0.201497</td>\n",
       "      <td>0.007812</td>\n",
       "      <td>0.562500</td>\n",
       "      <td>0.554688</td>\n",
       "      <td>0.247119</td>\n",
       "      <td>male</td>\n",
       "    </tr>\n",
       "    <tr>\n",
       "      <th>4</th>\n",
       "      <td>0.135120</td>\n",
       "      <td>0.079146</td>\n",
       "      <td>0.124656</td>\n",
       "      <td>0.078720</td>\n",
       "      <td>0.206045</td>\n",
       "      <td>0.127325</td>\n",
       "      <td>1.101174</td>\n",
       "      <td>4.333713</td>\n",
       "      <td>0.971955</td>\n",
       "      <td>0.783568</td>\n",
       "      <td>...</td>\n",
       "      <td>0.135120</td>\n",
       "      <td>0.106398</td>\n",
       "      <td>0.016931</td>\n",
       "      <td>0.266667</td>\n",
       "      <td>0.712812</td>\n",
       "      <td>0.007812</td>\n",
       "      <td>5.484375</td>\n",
       "      <td>5.476562</td>\n",
       "      <td>0.208274</td>\n",
       "      <td>male</td>\n",
       "    </tr>\n",
       "  </tbody>\n",
       "</table>\n",
       "<p>5 rows × 21 columns</p>\n",
       "</div>"
      ],
      "text/plain": [
       "   meanfreq        sd    median       Q25       Q75       IQR       skew  \\\n",
       "0  0.059781  0.064241  0.032027  0.015071  0.090193  0.075122  12.863462   \n",
       "1  0.066009  0.067310  0.040229  0.019414  0.092666  0.073252  22.423285   \n",
       "2  0.077316  0.083829  0.036718  0.008701  0.131908  0.123207  30.757155   \n",
       "3  0.151228  0.072111  0.158011  0.096582  0.207955  0.111374   1.232831   \n",
       "4  0.135120  0.079146  0.124656  0.078720  0.206045  0.127325   1.101174   \n",
       "\n",
       "          kurt    sp.ent       sfm  ...  centroid   meanfun    minfun  \\\n",
       "0   274.402906  0.893369  0.491918  ...  0.059781  0.084279  0.015702   \n",
       "1   634.613855  0.892193  0.513724  ...  0.066009  0.107937  0.015826   \n",
       "2  1024.927705  0.846389  0.478905  ...  0.077316  0.098706  0.015656   \n",
       "3     4.177296  0.963322  0.727232  ...  0.151228  0.088965  0.017798   \n",
       "4     4.333713  0.971955  0.783568  ...  0.135120  0.106398  0.016931   \n",
       "\n",
       "     maxfun   meandom    mindom    maxdom   dfrange   modindx  label  \n",
       "0  0.275862  0.007812  0.007812  0.007812  0.000000  0.000000   male  \n",
       "1  0.250000  0.009014  0.007812  0.054688  0.046875  0.052632   male  \n",
       "2  0.271186  0.007990  0.007812  0.015625  0.007812  0.046512   male  \n",
       "3  0.250000  0.201497  0.007812  0.562500  0.554688  0.247119   male  \n",
       "4  0.266667  0.712812  0.007812  5.484375  5.476562  0.208274   male  \n",
       "\n",
       "[5 rows x 21 columns]"
      ]
     },
     "execution_count": 3,
     "metadata": {},
     "output_type": "execute_result"
    }
   ],
   "source": [
    "df.head()"
   ]
  },
  {
   "cell_type": "code",
   "execution_count": 4,
   "id": "b6311995",
   "metadata": {},
   "outputs": [
    {
     "data": {
      "text/html": [
       "<div>\n",
       "<style scoped>\n",
       "    .dataframe tbody tr th:only-of-type {\n",
       "        vertical-align: middle;\n",
       "    }\n",
       "\n",
       "    .dataframe tbody tr th {\n",
       "        vertical-align: top;\n",
       "    }\n",
       "\n",
       "    .dataframe thead th {\n",
       "        text-align: right;\n",
       "    }\n",
       "</style>\n",
       "<table border=\"1\" class=\"dataframe\">\n",
       "  <thead>\n",
       "    <tr style=\"text-align: right;\">\n",
       "      <th></th>\n",
       "      <th>gender</th>\n",
       "      <th>counts</th>\n",
       "    </tr>\n",
       "  </thead>\n",
       "  <tbody>\n",
       "    <tr>\n",
       "      <th>0</th>\n",
       "      <td>male</td>\n",
       "      <td>1584</td>\n",
       "    </tr>\n",
       "    <tr>\n",
       "      <th>1</th>\n",
       "      <td>female</td>\n",
       "      <td>1584</td>\n",
       "    </tr>\n",
       "  </tbody>\n",
       "</table>\n",
       "</div>"
      ],
      "text/plain": [
       "   gender  counts\n",
       "0    male    1584\n",
       "1  female    1584"
      ]
     },
     "execution_count": 4,
     "metadata": {},
     "output_type": "execute_result"
    }
   ],
   "source": [
    "new_df=df[\"label\"].value_counts().rename_axis(\"gender\").reset_index(name=\"counts\")\n",
    "new_df.head()"
   ]
  },
  {
   "cell_type": "code",
   "execution_count": 5,
   "id": "c16db094",
   "metadata": {},
   "outputs": [],
   "source": [
    "label=new_df.gender\n",
    "values=new_df.counts"
   ]
  },
  {
   "cell_type": "code",
   "execution_count": 6,
   "id": "004d68c8",
   "metadata": {},
   "outputs": [
    {
     "data": {
      "image/png": "[encoded data removed]",
      "text/plain": [
       "<Figure size 432x288 with 1 Axes>"
      ]
     },
     "metadata": {},
     "output_type": "display_data"
    }
   ],
   "source": [
    "fig=plt.figure()\n",
    "ax=fig.add_axes([0,0,1,1])\n",
    "ax.axis(\"equal\")\n",
    "ax.pie(values,labels=label,autopct=\"%1.2f%%\")\n",
    "plt.show()"
   ]
  },
  {
   "cell_type": "code",
   "execution_count": 7,
   "id": "5563909d",
   "metadata": {},
   "outputs": [
    {
     "data": {
      "text/plain": [
       "meanfreq    0\n",
       "sd          0\n",
       "median      0\n",
       "Q25         0\n",
       "Q75         0\n",
       "IQR         0\n",
       "skew        0\n",
       "kurt        0\n",
       "sp.ent      0\n",
       "sfm         0\n",
       "mode        0\n",
       "centroid    0\n",
       "meanfun     0\n",
       "minfun      0\n",
       "maxfun      0\n",
       "meandom     0\n",
       "mindom      0\n",
       "maxdom      0\n",
       "dfrange     0\n",
       "modindx     0\n",
       "label       0\n",
       "dtype: int64"
      ]
     },
     "execution_count": 7,
     "metadata": {},
     "output_type": "execute_result"
    }
   ],
   "source": [
    "df.isnull().sum()"
   ]
  },
  {
   "cell_type": "code",
   "execution_count": 8,
   "id": "5de46e5c",
   "metadata": {},
   "outputs": [
    {
     "data": {
      "text/plain": [
       "0       False\n",
       "1       False\n",
       "2       False\n",
       "3       False\n",
       "4       False\n",
       "        ...  \n",
       "3163    False\n",
       "3164    False\n",
       "3165    False\n",
       "3166    False\n",
       "3167    False\n",
       "Length: 3168, dtype: bool"
      ]
     },
     "execution_count": 8,
     "metadata": {},
     "output_type": "execute_result"
    }
   ],
   "source": [
    "df.duplicated()"
   ]
  },
  {
   "cell_type": "code",
   "execution_count": 9,
   "id": "25777045",
   "metadata": {},
   "outputs": [
    {
     "data": {
      "text/plain": [
       "meanfreq    float64\n",
       "sd          float64\n",
       "median      float64\n",
       "Q25         float64\n",
       "Q75         float64\n",
       "IQR         float64\n",
       "skew        float64\n",
       "kurt        float64\n",
       "sp.ent      float64\n",
       "sfm         float64\n",
       "mode        float64\n",
       "centroid    float64\n",
       "meanfun     float64\n",
       "minfun      float64\n",
       "maxfun      float64\n",
       "meandom     float64\n",
       "mindom      float64\n",
       "maxdom      float64\n",
       "dfrange     float64\n",
       "modindx     float64\n",
       "label        object\n",
       "dtype: object"
      ]
     },
     "execution_count": 9,
     "metadata": {},
     "output_type": "execute_result"
    }
   ],
   "source": [
    "df.dtypes"
   ]
  },
  {
   "cell_type": "code",
   "execution_count": 10,
   "id": "00dd18d1",
   "metadata": {},
   "outputs": [
    {
     "name": "stdout",
     "output_type": "stream",
     "text": [
      "<class 'pandas.core.frame.DataFrame'>\n",
      "<class 'pandas.core.series.Series'>\n"
     ]
    }
   ],
   "source": [
    "x=df.iloc[:,:-1]\n",
    "y=df.iloc[:,-1]\n",
    "print(type(x))\n",
    "print(type(y))"
   ]
  },
  {
   "cell_type": "code",
   "execution_count": 11,
   "id": "01f3412f",
   "metadata": {},
   "outputs": [
    {
     "name": "stdout",
     "output_type": "stream",
     "text": [
      "(3168, 20)\n",
      "(3168,)\n"
     ]
    }
   ],
   "source": [
    "print(x.shape)\n",
    "print(y.shape)"
   ]
  },
  {
   "cell_type": "code",
   "execution_count": 12,
   "id": "3b0b362b",
   "metadata": {},
   "outputs": [
    {
     "data": {
      "text/html": [
       "<div>\n",
       "<style scoped>\n",
       "    .dataframe tbody tr th:only-of-type {\n",
       "        vertical-align: middle;\n",
       "    }\n",
       "\n",
       "    .dataframe tbody tr th {\n",
       "        vertical-align: top;\n",
       "    }\n",
       "\n",
       "    .dataframe thead th {\n",
       "        text-align: right;\n",
       "    }\n",
       "</style>\n",
       "<table border=\"1\" class=\"dataframe\">\n",
       "  <thead>\n",
       "    <tr style=\"text-align: right;\">\n",
       "      <th></th>\n",
       "      <th>meanfreq</th>\n",
       "      <th>sd</th>\n",
       "      <th>median</th>\n",
       "      <th>Q25</th>\n",
       "      <th>Q75</th>\n",
       "      <th>IQR</th>\n",
       "      <th>skew</th>\n",
       "      <th>kurt</th>\n",
       "      <th>sp.ent</th>\n",
       "      <th>sfm</th>\n",
       "      <th>mode</th>\n",
       "      <th>centroid</th>\n",
       "      <th>meanfun</th>\n",
       "      <th>minfun</th>\n",
       "      <th>maxfun</th>\n",
       "      <th>meandom</th>\n",
       "      <th>mindom</th>\n",
       "      <th>maxdom</th>\n",
       "      <th>dfrange</th>\n",
       "      <th>modindx</th>\n",
       "    </tr>\n",
       "  </thead>\n",
       "  <tbody>\n",
       "    <tr>\n",
       "      <th>0</th>\n",
       "      <td>0.059781</td>\n",
       "      <td>0.064241</td>\n",
       "      <td>0.032027</td>\n",
       "      <td>0.015071</td>\n",
       "      <td>0.090193</td>\n",
       "      <td>0.075122</td>\n",
       "      <td>12.863462</td>\n",
       "      <td>274.402906</td>\n",
       "      <td>0.893369</td>\n",
       "      <td>0.491918</td>\n",
       "      <td>0.000000</td>\n",
       "      <td>0.059781</td>\n",
       "      <td>0.084279</td>\n",
       "      <td>0.015702</td>\n",
       "      <td>0.275862</td>\n",
       "      <td>0.007812</td>\n",
       "      <td>0.007812</td>\n",
       "      <td>0.007812</td>\n",
       "      <td>0.000000</td>\n",
       "      <td>0.000000</td>\n",
       "    </tr>\n",
       "    <tr>\n",
       "      <th>1</th>\n",
       "      <td>0.066009</td>\n",
       "      <td>0.067310</td>\n",
       "      <td>0.040229</td>\n",
       "      <td>0.019414</td>\n",
       "      <td>0.092666</td>\n",
       "      <td>0.073252</td>\n",
       "      <td>22.423285</td>\n",
       "      <td>634.613855</td>\n",
       "      <td>0.892193</td>\n",
       "      <td>0.513724</td>\n",
       "      <td>0.000000</td>\n",
       "      <td>0.066009</td>\n",
       "      <td>0.107937</td>\n",
       "      <td>0.015826</td>\n",
       "      <td>0.250000</td>\n",
       "      <td>0.009014</td>\n",
       "      <td>0.007812</td>\n",
       "      <td>0.054688</td>\n",
       "      <td>0.046875</td>\n",
       "      <td>0.052632</td>\n",
       "    </tr>\n",
       "    <tr>\n",
       "      <th>2</th>\n",
       "      <td>0.077316</td>\n",
       "      <td>0.083829</td>\n",
       "      <td>0.036718</td>\n",
       "      <td>0.008701</td>\n",
       "      <td>0.131908</td>\n",
       "      <td>0.123207</td>\n",
       "      <td>30.757155</td>\n",
       "      <td>1024.927705</td>\n",
       "      <td>0.846389</td>\n",
       "      <td>0.478905</td>\n",
       "      <td>0.000000</td>\n",
       "      <td>0.077316</td>\n",
       "      <td>0.098706</td>\n",
       "      <td>0.015656</td>\n",
       "      <td>0.271186</td>\n",
       "      <td>0.007990</td>\n",
       "      <td>0.007812</td>\n",
       "      <td>0.015625</td>\n",
       "      <td>0.007812</td>\n",
       "      <td>0.046512</td>\n",
       "    </tr>\n",
       "    <tr>\n",
       "      <th>3</th>\n",
       "      <td>0.151228</td>\n",
       "      <td>0.072111</td>\n",
       "      <td>0.158011</td>\n",
       "      <td>0.096582</td>\n",
       "      <td>0.207955</td>\n",
       "      <td>0.111374</td>\n",
       "      <td>1.232831</td>\n",
       "      <td>4.177296</td>\n",
       "      <td>0.963322</td>\n",
       "      <td>0.727232</td>\n",
       "      <td>0.083878</td>\n",
       "      <td>0.151228</td>\n",
       "      <td>0.088965</td>\n",
       "      <td>0.017798</td>\n",
       "      <td>0.250000</td>\n",
       "      <td>0.201497</td>\n",
       "      <td>0.007812</td>\n",
       "      <td>0.562500</td>\n",
       "      <td>0.554688</td>\n",
       "      <td>0.247119</td>\n",
       "    </tr>\n",
       "    <tr>\n",
       "      <th>4</th>\n",
       "      <td>0.135120</td>\n",
       "      <td>0.079146</td>\n",
       "      <td>0.124656</td>\n",
       "      <td>0.078720</td>\n",
       "      <td>0.206045</td>\n",
       "      <td>0.127325</td>\n",
       "      <td>1.101174</td>\n",
       "      <td>4.333713</td>\n",
       "      <td>0.971955</td>\n",
       "      <td>0.783568</td>\n",
       "      <td>0.104261</td>\n",
       "      <td>0.135120</td>\n",
       "      <td>0.106398</td>\n",
       "      <td>0.016931</td>\n",
       "      <td>0.266667</td>\n",
       "      <td>0.712812</td>\n",
       "      <td>0.007812</td>\n",
       "      <td>5.484375</td>\n",
       "      <td>5.476562</td>\n",
       "      <td>0.208274</td>\n",
       "    </tr>\n",
       "  </tbody>\n",
       "</table>\n",
       "</div>"
      ],
      "text/plain": [
       "   meanfreq        sd    median       Q25       Q75       IQR       skew  \\\n",
       "0  0.059781  0.064241  0.032027  0.015071  0.090193  0.075122  12.863462   \n",
       "1  0.066009  0.067310  0.040229  0.019414  0.092666  0.073252  22.423285   \n",
       "2  0.077316  0.083829  0.036718  0.008701  0.131908  0.123207  30.757155   \n",
       "3  0.151228  0.072111  0.158011  0.096582  0.207955  0.111374   1.232831   \n",
       "4  0.135120  0.079146  0.124656  0.078720  0.206045  0.127325   1.101174   \n",
       "\n",
       "          kurt    sp.ent       sfm      mode  centroid   meanfun    minfun  \\\n",
       "0   274.402906  0.893369  0.491918  0.000000  0.059781  0.084279  0.015702   \n",
       "1   634.613855  0.892193  0.513724  0.000000  0.066009  0.107937  0.015826   \n",
       "2  1024.927705  0.846389  0.478905  0.000000  0.077316  0.098706  0.015656   \n",
       "3     4.177296  0.963322  0.727232  0.083878  0.151228  0.088965  0.017798   \n",
       "4     4.333713  0.971955  0.783568  0.104261  0.135120  0.106398  0.016931   \n",
       "\n",
       "     maxfun   meandom    mindom    maxdom   dfrange   modindx  \n",
       "0  0.275862  0.007812  0.007812  0.007812  0.000000  0.000000  \n",
       "1  0.250000  0.009014  0.007812  0.054688  0.046875  0.052632  \n",
       "2  0.271186  0.007990  0.007812  0.015625  0.007812  0.046512  \n",
       "3  0.250000  0.201497  0.007812  0.562500  0.554688  0.247119  \n",
       "4  0.266667  0.712812  0.007812  5.484375  5.476562  0.208274  "
      ]
     },
     "execution_count": 12,
     "metadata": {},
     "output_type": "execute_result"
    }
   ],
   "source": [
    "x.head()"
   ]
  },
  {
   "cell_type": "code",
   "execution_count": 13,
   "id": "60f82a00",
   "metadata": {},
   "outputs": [
    {
     "data": {
      "text/plain": [
       "0    male\n",
       "1    male\n",
       "2    male\n",
       "3    male\n",
       "4    male\n",
       "Name: label, dtype: object"
      ]
     },
     "execution_count": 13,
     "metadata": {},
     "output_type": "execute_result"
    }
   ],
   "source": [
    "y.head()"
   ]
  },
  {
   "cell_type": "code",
   "execution_count": 14,
   "id": "9136ec39",
   "metadata": {},
   "outputs": [],
   "source": [
    "from sklearn.model_selection import train_test_split"
   ]
  },
  {
   "cell_type": "code",
   "execution_count": 15,
   "id": "892fc32f",
   "metadata": {},
   "outputs": [
    {
     "name": "stdout",
     "output_type": "stream",
     "text": [
      "(2534, 20)\n",
      "(634, 20)\n",
      "(2534,)\n",
      "(634,)\n"
     ]
    }
   ],
   "source": [
    "x_train,x_test,y_train,y_test = train_test_split(x,y,test_size=0.20)\n",
    "print(x_train.shape)\n",
    "print(x_test.shape)\n",
    "print(y_train.shape)\n",
    "print(y_test.shape)"
   ]
  },
  {
   "cell_type": "markdown",
   "id": "a8030502",
   "metadata": {},
   "source": [
    "##### applying decision tree classifier"
   ]
  },
  {
   "cell_type": "code",
   "execution_count": 16,
   "id": "f9be578b",
   "metadata": {},
   "outputs": [],
   "source": [
    "from sklearn.tree import DecisionTreeClassifier"
   ]
  },
  {
   "cell_type": "code",
   "execution_count": 17,
   "id": "22ff475e",
   "metadata": {},
   "outputs": [
    {
     "data": {
      "text/plain": [
       "DecisionTreeClassifier(max_depth=19, min_samples_split=19)"
      ]
     },
     "execution_count": 17,
     "metadata": {},
     "output_type": "execute_result"
    }
   ],
   "source": [
    "m1=DecisionTreeClassifier(criterion=\"gini\",max_depth=19,min_samples_split=19)\n",
    "m1.fit(x_train,y_train)"
   ]
  },
  {
   "cell_type": "code",
   "execution_count": 18,
   "id": "04d8a193",
   "metadata": {},
   "outputs": [
    {
     "name": "stdout",
     "output_type": "stream",
     "text": [
      "Training score 0.9865824782951855\n",
      "Testing score 0.9700315457413249\n"
     ]
    }
   ],
   "source": [
    "print(\"Training score\",m1.score(x_train,y_train))\n",
    "print(\"Testing score\",m1.score(x_test,y_test))"
   ]
  },
  {
   "cell_type": "code",
   "execution_count": 19,
   "id": "948e776e",
   "metadata": {},
   "outputs": [
    {
     "name": "stdout",
     "output_type": "stream",
     "text": [
      "['female' 'female' 'female' 'female' 'female' 'female' 'male' 'female'\n",
      " 'female' 'male' 'female' 'female' 'female' 'female' 'male' 'male'\n",
      " 'female' 'female' 'male' 'male' 'male' 'female' 'male' 'male' 'male'\n",
      " 'male' 'female' 'male' 'female' 'male' 'female' 'male' 'male' 'male'\n",
      " 'male' 'male' 'male' 'female' 'female' 'female' 'female' 'male' 'male'\n",
      " 'female' 'female' 'female' 'male' 'female' 'female' 'female' 'male'\n",
      " 'male' 'male' 'female' 'female' 'female' 'female' 'female' 'male' 'male'\n",
      " 'male' 'male' 'male' 'female' 'female' 'female' 'female' 'female'\n",
      " 'female' 'male' 'female' 'female' 'male' 'female' 'male' 'male' 'male'\n",
      " 'female' 'male' 'female' 'male' 'female' 'female' 'female' 'female'\n",
      " 'female' 'male' 'male' 'male' 'male' 'male' 'female' 'female' 'female'\n",
      " 'male' 'male' 'female' 'male' 'male' 'female' 'male' 'male' 'male' 'male'\n",
      " 'female' 'female' 'female' 'male' 'male' 'female' 'female' 'female'\n",
      " 'female' 'male' 'female' 'male' 'female' 'male' 'female' 'female' 'male'\n",
      " 'male' 'male' 'male' 'male' 'male' 'female' 'male' 'female' 'female'\n",
      " 'female' 'female' 'male' 'male' 'male' 'male' 'male' 'female' 'female'\n",
      " 'female' 'male' 'female' 'female' 'female' 'male' 'male' 'male' 'male'\n",
      " 'female' 'female' 'male' 'male' 'male' 'male' 'female' 'female' 'male'\n",
      " 'male' 'female' 'male' 'male' 'male' 'male' 'male' 'male' 'male' 'male'\n",
      " 'male' 'female' 'female' 'female' 'male' 'male' 'male' 'male' 'male'\n",
      " 'male' 'female' 'male' 'male' 'male' 'female' 'male' 'female' 'female'\n",
      " 'female' 'female' 'male' 'female' 'male' 'female' 'female' 'female'\n",
      " 'female' 'male' 'male' 'female' 'male' 'male' 'female' 'female' 'female'\n",
      " 'male' 'female' 'male' 'male' 'male' 'male' 'male' 'female' 'female'\n",
      " 'female' 'female' 'female' 'male' 'female' 'female' 'male' 'female'\n",
      " 'female' 'male' 'female' 'male' 'female' 'female' 'female' 'male' 'male'\n",
      " 'male' 'female' 'female' 'female' 'male' 'male' 'female' 'female' 'male'\n",
      " 'male' 'male' 'male' 'male' 'female' 'female' 'male' 'female' 'male'\n",
      " 'female' 'female' 'female' 'male' 'male' 'female' 'male' 'male' 'female'\n",
      " 'female' 'male' 'female' 'female' 'female' 'female' 'female' 'male'\n",
      " 'male' 'female' 'female' 'male' 'female' 'male' 'male' 'female' 'male'\n",
      " 'male' 'female' 'female' 'male' 'female' 'female' 'male' 'male' 'male'\n",
      " 'male' 'female' 'male' 'female' 'male' 'male' 'female' 'female' 'female'\n",
      " 'female' 'male' 'female' 'female' 'female' 'male' 'female' 'female'\n",
      " 'female' 'male' 'male' 'male' 'female' 'female' 'male' 'female' 'male'\n",
      " 'male' 'female' 'male' 'female' 'female' 'male' 'male' 'female' 'male'\n",
      " 'female' 'male' 'male' 'male' 'male' 'male' 'male' 'female' 'male'\n",
      " 'female' 'male' 'male' 'female' 'female' 'female' 'male' 'male' 'female'\n",
      " 'male' 'female' 'male' 'male' 'female' 'male' 'male' 'male' 'male' 'male'\n",
      " 'female' 'female' 'female' 'male' 'male' 'male' 'female' 'female'\n",
      " 'female' 'male' 'male' 'female' 'female' 'male' 'male' 'female' 'female'\n",
      " 'male' 'male' 'female' 'female' 'female' 'female' 'female' 'male' 'male'\n",
      " 'female' 'male' 'male' 'female' 'female' 'female' 'female' 'female'\n",
      " 'male' 'female' 'female' 'female' 'male' 'female' 'female' 'male'\n",
      " 'female' 'male' 'male' 'female' 'female' 'female' 'male' 'male' 'female'\n",
      " 'female' 'female' 'male' 'male' 'male' 'male' 'female' 'male' 'male'\n",
      " 'female' 'female' 'female' 'female' 'female' 'female' 'male' 'female'\n",
      " 'male' 'female' 'female' 'female' 'male' 'male' 'male' 'male' 'female'\n",
      " 'male' 'female' 'male' 'male' 'male' 'male' 'female' 'female' 'male'\n",
      " 'male' 'male' 'male' 'female' 'female' 'female' 'male' 'male' 'female'\n",
      " 'male' 'male' 'male' 'female' 'male' 'female' 'female' 'female' 'male'\n",
      " 'male' 'male' 'female' 'female' 'male' 'female' 'male' 'male' 'female'\n",
      " 'female' 'male' 'male' 'male' 'male' 'male' 'female' 'male' 'female'\n",
      " 'female' 'male' 'female' 'female' 'female' 'male' 'female' 'female'\n",
      " 'female' 'female' 'male' 'male' 'female' 'female' 'female' 'male' 'male'\n",
      " 'male' 'female' 'male' 'female' 'male' 'female' 'female' 'female' 'male'\n",
      " 'female' 'male' 'male' 'male' 'female' 'female' 'female' 'female' 'male'\n",
      " 'female' 'male' 'female' 'male' 'female' 'female' 'male' 'male' 'female'\n",
      " 'male' 'female' 'male' 'male' 'male' 'male' 'female' 'male' 'female'\n",
      " 'male' 'male' 'female' 'female' 'male' 'female' 'female' 'female' 'male'\n",
      " 'male' 'female' 'female' 'female' 'female' 'male' 'female' 'male'\n",
      " 'female' 'male' 'female' 'female' 'female' 'female' 'female' 'male'\n",
      " 'female' 'female' 'female' 'female' 'male' 'female' 'female' 'male'\n",
      " 'female' 'male' 'female' 'female' 'female' 'male' 'male' 'male' 'female'\n",
      " 'male' 'male' 'female' 'male' 'male' 'male' 'male' 'female' 'male' 'male'\n",
      " 'female' 'male' 'female' 'female' 'female' 'female' 'male' 'female'\n",
      " 'male' 'male' 'female' 'female' 'male' 'female' 'male' 'female' 'male'\n",
      " 'female' 'female' 'female' 'female' 'female' 'female' 'male' 'male'\n",
      " 'male' 'male' 'male' 'female' 'female' 'female' 'female' 'female'\n",
      " 'female' 'female' 'female' 'female' 'male' 'male' 'male' 'female'\n",
      " 'female' 'female' 'female' 'male' 'female' 'male' 'female' 'female'\n",
      " 'male' 'male' 'female' 'male' 'male' 'male' 'male' 'female' 'female'\n",
      " 'female' 'female' 'male' 'male' 'female']\n"
     ]
    }
   ],
   "source": [
    "ypred_m1=m1.predict(x_test)\n",
    "print(ypred_m1)"
   ]
  },
  {
   "cell_type": "code",
   "execution_count": 20,
   "id": "ad7cb3b1",
   "metadata": {},
   "outputs": [],
   "source": [
    "from sklearn.metrics import confusion_matrix,classification_report"
   ]
  },
  {
   "cell_type": "code",
   "execution_count": 21,
   "id": "125b78c7",
   "metadata": {},
   "outputs": [
    {
     "name": "stdout",
     "output_type": "stream",
     "text": [
      "[[319  11]\n",
      " [  8 296]]\n"
     ]
    }
   ],
   "source": [
    "cm_m1=confusion_matrix(y_test,ypred_m1)\n",
    "print(cm_m1)\n"
   ]
  },
  {
   "cell_type": "code",
   "execution_count": 22,
   "id": "5014d81c",
   "metadata": {},
   "outputs": [
    {
     "name": "stdout",
     "output_type": "stream",
     "text": [
      "              precision    recall  f1-score   support\n",
      "\n",
      "      female       0.98      0.97      0.97       330\n",
      "        male       0.96      0.97      0.97       304\n",
      "\n",
      "    accuracy                           0.97       634\n",
      "   macro avg       0.97      0.97      0.97       634\n",
      "weighted avg       0.97      0.97      0.97       634\n",
      "\n"
     ]
    }
   ],
   "source": [
    "print(classification_report(y_test,ypred_m1))"
   ]
  },
  {
   "cell_type": "markdown",
   "id": "c3deb693",
   "metadata": {},
   "source": [
    "##### applying random forest classifier"
   ]
  },
  {
   "cell_type": "code",
   "execution_count": 23,
   "id": "e09772f0",
   "metadata": {},
   "outputs": [],
   "source": [
    "from sklearn.ensemble import RandomForestClassifier"
   ]
  },
  {
   "cell_type": "code",
   "execution_count": 24,
   "id": "7700bbce",
   "metadata": {},
   "outputs": [
    {
     "data": {
      "text/plain": [
       "RandomForestClassifier(criterion='entropy', max_depth=15, min_samples_split=15,\n",
       "                       n_estimators=45)"
      ]
     },
     "execution_count": 24,
     "metadata": {},
     "output_type": "execute_result"
    }
   ],
   "source": [
    "m2=RandomForestClassifier(n_estimators=45,criterion=\"entropy\",max_depth=15,min_samples_split=15)\n",
    "m2.fit(x_train,y_train)"
   ]
  },
  {
   "cell_type": "code",
   "execution_count": 25,
   "id": "337353de",
   "metadata": {},
   "outputs": [
    {
     "name": "stdout",
     "output_type": "stream",
     "text": [
      "Training score 0.994475138121547\n",
      "Testing score 0.9826498422712934\n"
     ]
    }
   ],
   "source": [
    "print(\"Training score\",m2.score(x_train,y_train))\n",
    "print(\"Testing score\",m2.score(x_test,y_test))"
   ]
  },
  {
   "cell_type": "code",
   "execution_count": 26,
   "id": "0cf07dbb",
   "metadata": {},
   "outputs": [
    {
     "name": "stdout",
     "output_type": "stream",
     "text": [
      "['female' 'female' 'female' 'female' 'female' 'female' 'male' 'female'\n",
      " 'female' 'male' 'female' 'female' 'female' 'female' 'male' 'male'\n",
      " 'female' 'female' 'male' 'male' 'male' 'female' 'male' 'male' 'male'\n",
      " 'male' 'female' 'male' 'female' 'male' 'female' 'male' 'male' 'male'\n",
      " 'male' 'male' 'male' 'female' 'female' 'female' 'female' 'male' 'male'\n",
      " 'female' 'female' 'female' 'male' 'female' 'female' 'female' 'male'\n",
      " 'male' 'male' 'female' 'female' 'female' 'female' 'female' 'female'\n",
      " 'male' 'male' 'male' 'male' 'female' 'male' 'female' 'female' 'female'\n",
      " 'female' 'male' 'female' 'female' 'male' 'female' 'male' 'male' 'male'\n",
      " 'female' 'male' 'female' 'male' 'female' 'female' 'female' 'female'\n",
      " 'female' 'male' 'male' 'male' 'male' 'male' 'female' 'female' 'female'\n",
      " 'female' 'male' 'female' 'male' 'female' 'female' 'male' 'male' 'male'\n",
      " 'male' 'female' 'female' 'female' 'male' 'male' 'female' 'female'\n",
      " 'female' 'female' 'male' 'female' 'male' 'female' 'male' 'female'\n",
      " 'female' 'male' 'male' 'male' 'male' 'male' 'male' 'female' 'male'\n",
      " 'female' 'female' 'female' 'female' 'male' 'male' 'male' 'male' 'male'\n",
      " 'female' 'female' 'female' 'male' 'male' 'female' 'female' 'male' 'male'\n",
      " 'male' 'male' 'female' 'female' 'male' 'male' 'male' 'male' 'female'\n",
      " 'female' 'male' 'male' 'female' 'male' 'male' 'male' 'male' 'male' 'male'\n",
      " 'male' 'male' 'male' 'female' 'female' 'female' 'male' 'male' 'male'\n",
      " 'male' 'male' 'male' 'female' 'male' 'female' 'male' 'female' 'male'\n",
      " 'female' 'female' 'female' 'female' 'male' 'female' 'male' 'female'\n",
      " 'female' 'female' 'female' 'male' 'male' 'female' 'male' 'male' 'female'\n",
      " 'female' 'female' 'male' 'female' 'male' 'male' 'male' 'male' 'male'\n",
      " 'female' 'female' 'female' 'female' 'female' 'male' 'female' 'female'\n",
      " 'male' 'female' 'female' 'male' 'female' 'female' 'female' 'female'\n",
      " 'female' 'male' 'male' 'male' 'female' 'female' 'female' 'male' 'male'\n",
      " 'female' 'female' 'male' 'male' 'female' 'male' 'male' 'female' 'female'\n",
      " 'male' 'female' 'male' 'female' 'female' 'male' 'male' 'male' 'female'\n",
      " 'male' 'male' 'female' 'female' 'male' 'female' 'female' 'female'\n",
      " 'female' 'female' 'male' 'male' 'female' 'female' 'male' 'female' 'male'\n",
      " 'male' 'female' 'male' 'male' 'female' 'female' 'male' 'female' 'female'\n",
      " 'male' 'male' 'male' 'male' 'female' 'male' 'female' 'male' 'male'\n",
      " 'female' 'female' 'female' 'female' 'male' 'female' 'female' 'female'\n",
      " 'male' 'female' 'female' 'male' 'male' 'male' 'male' 'female' 'female'\n",
      " 'male' 'female' 'male' 'male' 'female' 'male' 'female' 'female' 'male'\n",
      " 'male' 'female' 'male' 'female' 'male' 'male' 'male' 'male' 'male' 'male'\n",
      " 'female' 'male' 'female' 'male' 'male' 'female' 'female' 'female' 'male'\n",
      " 'male' 'female' 'male' 'female' 'male' 'female' 'female' 'male' 'male'\n",
      " 'male' 'male' 'female' 'female' 'female' 'female' 'male' 'male' 'male'\n",
      " 'female' 'female' 'female' 'male' 'male' 'female' 'female' 'male' 'male'\n",
      " 'female' 'female' 'male' 'male' 'female' 'female' 'female' 'female'\n",
      " 'male' 'male' 'male' 'female' 'male' 'male' 'female' 'female' 'female'\n",
      " 'female' 'female' 'male' 'female' 'female' 'female' 'male' 'female'\n",
      " 'female' 'male' 'female' 'male' 'male' 'female' 'female' 'female' 'male'\n",
      " 'male' 'female' 'female' 'female' 'male' 'male' 'male' 'male' 'female'\n",
      " 'male' 'male' 'female' 'female' 'female' 'female' 'female' 'female'\n",
      " 'male' 'female' 'male' 'female' 'female' 'female' 'male' 'male' 'male'\n",
      " 'male' 'female' 'male' 'female' 'male' 'male' 'male' 'male' 'female'\n",
      " 'female' 'male' 'male' 'male' 'male' 'female' 'female' 'female' 'male'\n",
      " 'male' 'female' 'male' 'male' 'male' 'female' 'male' 'female' 'female'\n",
      " 'female' 'male' 'male' 'male' 'female' 'female' 'male' 'female' 'male'\n",
      " 'male' 'female' 'female' 'male' 'male' 'male' 'male' 'male' 'female'\n",
      " 'male' 'female' 'female' 'male' 'female' 'female' 'female' 'male'\n",
      " 'female' 'female' 'female' 'female' 'male' 'male' 'female' 'female'\n",
      " 'female' 'male' 'male' 'male' 'female' 'male' 'female' 'male' 'female'\n",
      " 'female' 'female' 'male' 'female' 'male' 'male' 'male' 'female' 'female'\n",
      " 'female' 'female' 'male' 'female' 'male' 'female' 'male' 'female'\n",
      " 'female' 'male' 'male' 'female' 'male' 'female' 'male' 'male' 'male'\n",
      " 'male' 'female' 'male' 'female' 'male' 'male' 'female' 'female' 'female'\n",
      " 'female' 'female' 'female' 'male' 'male' 'female' 'female' 'female'\n",
      " 'female' 'male' 'female' 'male' 'female' 'male' 'female' 'female'\n",
      " 'female' 'female' 'female' 'male' 'female' 'female' 'female' 'female'\n",
      " 'male' 'female' 'female' 'male' 'female' 'male' 'female' 'female'\n",
      " 'female' 'male' 'male' 'male' 'female' 'male' 'male' 'female' 'male'\n",
      " 'male' 'male' 'male' 'female' 'male' 'male' 'female' 'male' 'female'\n",
      " 'female' 'female' 'female' 'male' 'female' 'male' 'male' 'female'\n",
      " 'female' 'male' 'female' 'female' 'female' 'male' 'female' 'female'\n",
      " 'female' 'female' 'female' 'female' 'male' 'male' 'male' 'male' 'male'\n",
      " 'female' 'female' 'female' 'female' 'female' 'female' 'female' 'female'\n",
      " 'female' 'male' 'male' 'male' 'female' 'female' 'female' 'female' 'male'\n",
      " 'female' 'male' 'female' 'female' 'male' 'male' 'female' 'male' 'male'\n",
      " 'male' 'male' 'female' 'female' 'female' 'male' 'male' 'male' 'female']\n"
     ]
    }
   ],
   "source": [
    "ypred_m2=m2.predict(x_test)\n",
    "print(ypred_m2)"
   ]
  },
  {
   "cell_type": "code",
   "execution_count": 27,
   "id": "6851f099",
   "metadata": {},
   "outputs": [
    {
     "name": "stdout",
     "output_type": "stream",
     "text": [
      "[[325   5]\n",
      " [  6 298]]\n"
     ]
    }
   ],
   "source": [
    "cm_m2=confusion_matrix(y_test,ypred_m2)\n",
    "print(cm_m2)"
   ]
  },
  {
   "cell_type": "code",
   "execution_count": 28,
   "id": "d1fe771a",
   "metadata": {},
   "outputs": [
    {
     "name": "stdout",
     "output_type": "stream",
     "text": [
      "              precision    recall  f1-score   support\n",
      "\n",
      "      female       0.98      0.98      0.98       330\n",
      "        male       0.98      0.98      0.98       304\n",
      "\n",
      "    accuracy                           0.98       634\n",
      "   macro avg       0.98      0.98      0.98       634\n",
      "weighted avg       0.98      0.98      0.98       634\n",
      "\n"
     ]
    }
   ],
   "source": [
    "print(classification_report(y_test,ypred_m2))"
   ]
  },
  {
   "cell_type": "markdown",
   "id": "b5229561",
   "metadata": {},
   "source": [
    "##### applying KNN classifier"
   ]
  },
  {
   "cell_type": "code",
   "execution_count": 29,
   "id": "5cb942d5",
   "metadata": {},
   "outputs": [],
   "source": [
    "from sklearn.neighbors import KNeighborsClassifier"
   ]
  },
  {
   "cell_type": "code",
   "execution_count": 30,
   "id": "d9ec4d61",
   "metadata": {},
   "outputs": [
    {
     "data": {
      "text/plain": [
       "KNeighborsClassifier(n_neighbors=53)"
      ]
     },
     "execution_count": 30,
     "metadata": {},
     "output_type": "execute_result"
    }
   ],
   "source": [
    "m3=KNeighborsClassifier(n_neighbors=53)\n",
    "m3.fit(x_train,y_train)"
   ]
  },
  {
   "cell_type": "code",
   "execution_count": 31,
   "id": "bc21475f",
   "metadata": {},
   "outputs": [
    {
     "name": "stdout",
     "output_type": "stream",
     "text": [
      "Training score 0.6988950276243094\n",
      "Testing score 0.7239747634069401\n"
     ]
    }
   ],
   "source": [
    "print(\"Training score\",m3.score(x_train,y_train))\n",
    "print(\"Testing score\",m3.score(x_test,y_test))"
   ]
  },
  {
   "cell_type": "code",
   "execution_count": 32,
   "id": "79dea611",
   "metadata": {},
   "outputs": [
    {
     "name": "stdout",
     "output_type": "stream",
     "text": [
      "['male' 'female' 'female' 'male' 'female' 'female' 'male' 'male' 'female'\n",
      " 'female' 'male' 'female' 'female' 'female' 'male' 'male' 'female'\n",
      " 'female' 'male' 'female' 'female' 'female' 'female' 'male' 'male' 'male'\n",
      " 'female' 'male' 'female' 'male' 'female' 'male' 'male' 'male' 'female'\n",
      " 'female' 'male' 'male' 'female' 'male' 'female' 'male' 'male' 'female'\n",
      " 'female' 'female' 'male' 'male' 'female' 'female' 'male' 'male' 'female'\n",
      " 'female' 'female' 'male' 'female' 'male' 'male' 'male' 'male' 'female'\n",
      " 'male' 'female' 'male' 'female' 'female' 'female' 'female' 'male'\n",
      " 'female' 'female' 'male' 'male' 'male' 'female' 'male' 'male' 'female'\n",
      " 'male' 'male' 'male' 'female' 'female' 'male' 'female' 'male' 'female'\n",
      " 'male' 'male' 'male' 'female' 'female' 'male' 'male' 'male' 'female'\n",
      " 'male' 'male' 'female' 'female' 'male' 'male' 'male' 'female' 'female'\n",
      " 'female' 'male' 'male' 'male' 'male' 'male' 'female' 'male' 'male'\n",
      " 'female' 'male' 'female' 'female' 'female' 'male' 'female' 'male' 'male'\n",
      " 'male' 'male' 'male' 'male' 'female' 'female' 'female' 'female' 'male'\n",
      " 'female' 'male' 'male' 'male' 'female' 'female' 'female' 'female'\n",
      " 'female' 'male' 'female' 'male' 'male' 'female' 'male' 'female' 'female'\n",
      " 'male' 'male' 'male' 'male' 'female' 'female' 'male' 'male' 'female'\n",
      " 'male' 'male' 'male' 'male' 'female' 'female' 'male' 'male' 'female'\n",
      " 'female' 'female' 'male' 'male' 'female' 'female' 'female' 'male' 'male'\n",
      " 'female' 'male' 'male' 'male' 'female' 'male' 'female' 'male' 'male'\n",
      " 'male' 'female' 'female' 'female' 'male' 'female' 'male' 'female'\n",
      " 'female' 'male' 'male' 'male' 'male' 'female' 'female' 'female' 'female'\n",
      " 'female' 'male' 'male' 'male' 'female' 'male' 'female' 'male' 'female'\n",
      " 'male' 'male' 'male' 'male' 'female' 'female' 'female' 'female' 'male'\n",
      " 'male' 'male' 'female' 'female' 'female' 'male' 'male' 'male' 'male'\n",
      " 'female' 'male' 'male' 'female' 'male' 'female' 'male' 'male' 'female'\n",
      " 'male' 'male' 'female' 'male' 'male' 'female' 'male' 'male' 'male'\n",
      " 'female' 'male' 'male' 'male' 'male' 'male' 'female' 'female' 'male'\n",
      " 'male' 'female' 'female' 'male' 'female' 'male' 'male' 'female' 'female'\n",
      " 'male' 'female' 'female' 'male' 'male' 'female' 'male' 'female' 'female'\n",
      " 'male' 'female' 'male' 'female' 'male' 'male' 'male' 'male' 'male'\n",
      " 'female' 'male' 'male' 'female' 'female' 'female' 'male' 'male' 'female'\n",
      " 'female' 'female' 'male' 'male' 'female' 'female' 'male' 'male' 'male'\n",
      " 'female' 'female' 'female' 'female' 'female' 'male' 'female' 'female'\n",
      " 'female' 'female' 'male' 'male' 'female' 'female' 'male' 'female' 'male'\n",
      " 'male' 'male' 'male' 'male' 'female' 'male' 'female' 'male' 'male' 'male'\n",
      " 'male' 'male' 'male' 'male' 'female' 'male' 'female' 'female' 'male'\n",
      " 'female' 'male' 'male' 'male' 'male' 'male' 'female' 'female' 'male'\n",
      " 'male' 'male' 'male' 'female' 'female' 'female' 'male' 'male' 'male'\n",
      " 'female' 'male' 'male' 'female' 'male' 'male' 'female' 'female' 'female'\n",
      " 'male' 'female' 'male' 'male' 'male' 'female' 'male' 'male' 'female'\n",
      " 'female' 'female' 'female' 'male' 'male' 'male' 'female' 'female'\n",
      " 'female' 'female' 'female' 'male' 'female' 'male' 'female' 'female'\n",
      " 'male' 'male' 'male' 'female' 'male' 'female' 'female' 'female' 'male'\n",
      " 'male' 'female' 'male' 'male' 'male' 'female' 'male' 'female' 'female'\n",
      " 'female' 'female' 'male' 'female' 'male' 'female' 'female' 'female'\n",
      " 'male' 'male' 'male' 'female' 'female' 'male' 'female' 'male' 'male'\n",
      " 'female' 'male' 'female' 'female' 'male' 'male' 'male' 'male' 'male'\n",
      " 'female' 'male' 'male' 'male' 'female' 'male' 'female' 'male' 'female'\n",
      " 'female' 'male' 'male' 'female' 'female' 'female' 'female' 'female'\n",
      " 'male' 'female' 'female' 'male' 'male' 'female' 'female' 'male' 'male'\n",
      " 'male' 'male' 'male' 'female' 'male' 'female' 'male' 'male' 'female'\n",
      " 'female' 'female' 'male' 'female' 'female' 'female' 'female' 'female'\n",
      " 'male' 'female' 'female' 'female' 'female' 'female' 'male' 'male' 'male'\n",
      " 'male' 'male' 'female' 'female' 'male' 'male' 'female' 'male' 'male'\n",
      " 'female' 'female' 'female' 'male' 'female' 'female' 'male' 'female'\n",
      " 'female' 'male' 'male' 'female' 'female' 'male' 'female' 'male' 'female'\n",
      " 'male' 'male' 'male' 'male' 'female' 'male' 'male' 'male' 'male' 'female'\n",
      " 'female' 'female' 'male' 'male' 'male' 'male' 'male' 'male' 'female'\n",
      " 'male' 'female' 'female' 'male' 'male' 'female' 'male' 'female' 'female'\n",
      " 'female' 'female' 'male' 'male' 'female' 'female' 'female' 'male' 'male'\n",
      " 'female' 'female' 'female' 'female' 'female' 'male' 'female' 'female'\n",
      " 'male' 'male' 'male' 'male' 'male' 'female' 'female' 'female' 'male'\n",
      " 'female' 'male' 'male' 'male' 'male' 'male' 'female' 'female' 'female'\n",
      " 'female' 'female' 'male' 'male' 'male' 'male' 'male' 'female' 'male'\n",
      " 'male' 'male' 'female' 'male' 'female' 'male' 'female' 'female' 'female'\n",
      " 'male' 'female' 'male' 'female' 'male' 'male' 'female' 'female' 'male'\n",
      " 'female' 'female' 'female' 'female' 'male' 'female' 'female' 'male'\n",
      " 'male' 'female' 'male' 'female' 'male' 'male' 'female' 'male' 'female'\n",
      " 'female' 'male' 'male' 'female' 'male' 'male' 'male' 'male' 'male'\n",
      " 'female' 'female' 'male' 'male' 'male' 'female']\n"
     ]
    }
   ],
   "source": [
    "ypred_m3=m3.predict(x_test)\n",
    "print(ypred_m3)"
   ]
  },
  {
   "cell_type": "code",
   "execution_count": 33,
   "id": "1b51a3b5",
   "metadata": {},
   "outputs": [
    {
     "name": "stdout",
     "output_type": "stream",
     "text": [
      "[[227 103]\n",
      " [ 72 232]]\n"
     ]
    }
   ],
   "source": [
    "cm_m3=confusion_matrix(y_test,ypred_m3)\n",
    "print(cm_m3)"
   ]
  },
  {
   "cell_type": "code",
   "execution_count": 34,
   "id": "62ed3349",
   "metadata": {},
   "outputs": [
    {
     "name": "stdout",
     "output_type": "stream",
     "text": [
      "              precision    recall  f1-score   support\n",
      "\n",
      "      female       0.76      0.69      0.72       330\n",
      "        male       0.69      0.76      0.73       304\n",
      "\n",
      "    accuracy                           0.72       634\n",
      "   macro avg       0.73      0.73      0.72       634\n",
      "weighted avg       0.73      0.72      0.72       634\n",
      "\n"
     ]
    }
   ],
   "source": [
    "print(classification_report(y_test,ypred_m3))"
   ]
  },
  {
   "cell_type": "markdown",
   "id": "85552b0f",
   "metadata": {},
   "source": [
    "##### applying SVM classifier"
   ]
  },
  {
   "cell_type": "code",
   "execution_count": 35,
   "id": "520aa9f5",
   "metadata": {},
   "outputs": [],
   "source": [
    "from sklearn.svm import SVC"
   ]
  },
  {
   "cell_type": "code",
   "execution_count": 36,
   "id": "976bb19c",
   "metadata": {},
   "outputs": [
    {
     "data": {
      "text/plain": [
       "SVC(C=0.1, kernel='linear')"
      ]
     },
     "execution_count": 36,
     "metadata": {},
     "output_type": "execute_result"
    }
   ],
   "source": [
    "m4=SVC(kernel=\"linear\",C=0.1)\n",
    "m4.fit(x_train,y_train)"
   ]
  },
  {
   "cell_type": "code",
   "execution_count": 37,
   "id": "33a010ca",
   "metadata": {},
   "outputs": [
    {
     "name": "stdout",
     "output_type": "stream",
     "text": [
      "Training score 0.8291239147592738\n",
      "Testing score 0.8217665615141956\n"
     ]
    }
   ],
   "source": [
    "print(\"Training score\",m4.score(x_train,y_train))\n",
    "print(\"Testing score\",m4.score(x_test,y_test))"
   ]
  },
  {
   "cell_type": "code",
   "execution_count": 38,
   "id": "f61b7b93",
   "metadata": {},
   "outputs": [
    {
     "name": "stdout",
     "output_type": "stream",
     "text": [
      "['female' 'female' 'male' 'female' 'female' 'male' 'male' 'male' 'male'\n",
      " 'male' 'male' 'female' 'female' 'female' 'male' 'male' 'female' 'female'\n",
      " 'male' 'male' 'male' 'female' 'male' 'male' 'male' 'male' 'male' 'male'\n",
      " 'male' 'male' 'female' 'male' 'male' 'female' 'female' 'male' 'male'\n",
      " 'male' 'female' 'female' 'female' 'male' 'male' 'female' 'female'\n",
      " 'female' 'male' 'female' 'female' 'female' 'male' 'male' 'female'\n",
      " 'female' 'female' 'female' 'female' 'male' 'male' 'male' 'male' 'male'\n",
      " 'male' 'female' 'male' 'male' 'female' 'female' 'female' 'male' 'female'\n",
      " 'female' 'male' 'male' 'male' 'female' 'male' 'female' 'male' 'male'\n",
      " 'male' 'male' 'female' 'female' 'male' 'female' 'male' 'male' 'male'\n",
      " 'male' 'male' 'female' 'female' 'male' 'male' 'male' 'female' 'male'\n",
      " 'male' 'female' 'female' 'male' 'male' 'male' 'female' 'female' 'female'\n",
      " 'male' 'male' 'female' 'female' 'male' 'female' 'male' 'female' 'male'\n",
      " 'female' 'male' 'female' 'female' 'male' 'male' 'male' 'male' 'male'\n",
      " 'male' 'male' 'male' 'female' 'female' 'female' 'male' 'male' 'male'\n",
      " 'male' 'male' 'male' 'male' 'female' 'female' 'male' 'female' 'female'\n",
      " 'female' 'male' 'male' 'male' 'male' 'female' 'female' 'male' 'male'\n",
      " 'male' 'male' 'female' 'female' 'male' 'male' 'female' 'male' 'male'\n",
      " 'male' 'male' 'male' 'female' 'male' 'male' 'male' 'female' 'female'\n",
      " 'female' 'male' 'male' 'male' 'female' 'male' 'male' 'female' 'male'\n",
      " 'female' 'male' 'female' 'male' 'female' 'male' 'male' 'male' 'female'\n",
      " 'female' 'female' 'male' 'female' 'female' 'female' 'male' 'male' 'male'\n",
      " 'male' 'male' 'female' 'female' 'female' 'male' 'female' 'male' 'male'\n",
      " 'male' 'male' 'male' 'female' 'male' 'female' 'male' 'male' 'male'\n",
      " 'female' 'female' 'male' 'female' 'female' 'male' 'female' 'male'\n",
      " 'female' 'female' 'female' 'male' 'female' 'male' 'female' 'female'\n",
      " 'female' 'male' 'male' 'male' 'male' 'male' 'male' 'female' 'male' 'male'\n",
      " 'male' 'male' 'male' 'female' 'male' 'male' 'male' 'male' 'male' 'male'\n",
      " 'male' 'male' 'male' 'female' 'female' 'male' 'female' 'female' 'female'\n",
      " 'female' 'female' 'male' 'male' 'female' 'female' 'male' 'female'\n",
      " 'female' 'male' 'female' 'male' 'male' 'female' 'female' 'male' 'female'\n",
      " 'male' 'male' 'male' 'male' 'male' 'female' 'male' 'male' 'male' 'male'\n",
      " 'female' 'female' 'female' 'male' 'male' 'female' 'female' 'female'\n",
      " 'male' 'male' 'female' 'female' 'male' 'female' 'male' 'female' 'female'\n",
      " 'male' 'female' 'male' 'male' 'female' 'female' 'female' 'female' 'male'\n",
      " 'male' 'female' 'male' 'female' 'male' 'male' 'male' 'male' 'male' 'male'\n",
      " 'female' 'male' 'female' 'male' 'male' 'female' 'male' 'male' 'male'\n",
      " 'female' 'female' 'male' 'female' 'male' 'male' 'male' 'male' 'male'\n",
      " 'male' 'male' 'male' 'female' 'female' 'female' 'male' 'male' 'male'\n",
      " 'female' 'female' 'female' 'female' 'male' 'male' 'male' 'female' 'male'\n",
      " 'female' 'male' 'male' 'male' 'female' 'female' 'male' 'female' 'male'\n",
      " 'male' 'male' 'male' 'male' 'male' 'female' 'female' 'female' 'female'\n",
      " 'female' 'male' 'female' 'female' 'male' 'female' 'female' 'female'\n",
      " 'male' 'female' 'male' 'male' 'female' 'male' 'female' 'male' 'male'\n",
      " 'male' 'female' 'female' 'male' 'male' 'female' 'male' 'male' 'female'\n",
      " 'male' 'female' 'female' 'female' 'female' 'female' 'female' 'male'\n",
      " 'female' 'male' 'female' 'female' 'female' 'male' 'male' 'male' 'male'\n",
      " 'female' 'male' 'female' 'male' 'male' 'male' 'male' 'female' 'female'\n",
      " 'male' 'male' 'male' 'male' 'male' 'female' 'male' 'male' 'male' 'female'\n",
      " 'male' 'male' 'male' 'female' 'male' 'male' 'female' 'female' 'female'\n",
      " 'male' 'male' 'male' 'female' 'female' 'male' 'male' 'male' 'female'\n",
      " 'male' 'male' 'male' 'male' 'male' 'male' 'male' 'male' 'female' 'male'\n",
      " 'male' 'female' 'female' 'female' 'male' 'female' 'male' 'female'\n",
      " 'female' 'male' 'male' 'female' 'male' 'female' 'female' 'male' 'male'\n",
      " 'female' 'male' 'female' 'male' 'female' 'female' 'female' 'male'\n",
      " 'female' 'male' 'male' 'female' 'female' 'female' 'male' 'female' 'male'\n",
      " 'male' 'male' 'female' 'male' 'female' 'female' 'male' 'male' 'female'\n",
      " 'male' 'male' 'male' 'male' 'male' 'male' 'female' 'male' 'female' 'male'\n",
      " 'male' 'female' 'male' 'female' 'male' 'female' 'male' 'male' 'male'\n",
      " 'female' 'female' 'male' 'female' 'male' 'male' 'male' 'female' 'female'\n",
      " 'female' 'female' 'male' 'female' 'female' 'male' 'male' 'male' 'female'\n",
      " 'female' 'male' 'female' 'female' 'male' 'male' 'male' 'female' 'female'\n",
      " 'female' 'male' 'male' 'male' 'female' 'male' 'female' 'female' 'female'\n",
      " 'male' 'male' 'male' 'female' 'male' 'male' 'male' 'male' 'female' 'male'\n",
      " 'female' 'female' 'male' 'male' 'male' 'male' 'female' 'female' 'male'\n",
      " 'female' 'female' 'male' 'male' 'female' 'female' 'female' 'female'\n",
      " 'female' 'female' 'male' 'male' 'male' 'male' 'male' 'female' 'female'\n",
      " 'female' 'female' 'female' 'female' 'female' 'male' 'female' 'male'\n",
      " 'male' 'male' 'female' 'female' 'female' 'male' 'male' 'female' 'male'\n",
      " 'female' 'male' 'male' 'male' 'female' 'male' 'male' 'male' 'male' 'male'\n",
      " 'female' 'female' 'male' 'male' 'male' 'female']\n"
     ]
    }
   ],
   "source": [
    "ypred_m4=m4.predict(x_test)\n",
    "print(ypred_m4)"
   ]
  },
  {
   "cell_type": "code",
   "execution_count": 39,
   "id": "9369d446",
   "metadata": {},
   "outputs": [
    {
     "name": "stdout",
     "output_type": "stream",
     "text": [
      "[[245  85]\n",
      " [ 28 276]]\n"
     ]
    }
   ],
   "source": [
    "cm_m4=confusion_matrix(y_test,ypred_m4)\n",
    "print(cm_m4)"
   ]
  },
  {
   "cell_type": "code",
   "execution_count": 40,
   "id": "a13d7ecc",
   "metadata": {},
   "outputs": [
    {
     "name": "stdout",
     "output_type": "stream",
     "text": [
      "              precision    recall  f1-score   support\n",
      "\n",
      "      female       0.90      0.74      0.81       330\n",
      "        male       0.76      0.91      0.83       304\n",
      "\n",
      "    accuracy                           0.82       634\n",
      "   macro avg       0.83      0.83      0.82       634\n",
      "weighted avg       0.83      0.82      0.82       634\n",
      "\n"
     ]
    }
   ],
   "source": [
    "print(classification_report(y_test,ypred_m4))"
   ]
  },
  {
   "cell_type": "code",
   "execution_count": 41,
   "id": "13df08fd",
   "metadata": {},
   "outputs": [
    {
     "data": {
      "text/plain": [
       "SVC(C=1, gamma=0.1)"
      ]
     },
     "execution_count": 41,
     "metadata": {},
     "output_type": "execute_result"
    }
   ],
   "source": [
    "m6=SVC(kernel=\"rbf\",C=1,gamma=0.1)\n",
    "m6.fit(x_train,y_train)"
   ]
  },
  {
   "cell_type": "code",
   "execution_count": 42,
   "id": "6c0863ff",
   "metadata": {},
   "outputs": [
    {
     "name": "stdout",
     "output_type": "stream",
     "text": [
      "Training score 0.7734806629834254\n",
      "Testing score 0.7555205047318612\n"
     ]
    }
   ],
   "source": [
    "print(\"Training score\",m6.score(x_train,y_train))\n",
    "print(\"Testing score\",m6.score(x_test,y_test))"
   ]
  },
  {
   "cell_type": "code",
   "execution_count": 43,
   "id": "61329faf",
   "metadata": {},
   "outputs": [
    {
     "name": "stdout",
     "output_type": "stream",
     "text": [
      "['male' 'female' 'female' 'male' 'female' 'female' 'male' 'male' 'female'\n",
      " 'female' 'male' 'female' 'female' 'female' 'male' 'male' 'female'\n",
      " 'female' 'male' 'female' 'male' 'female' 'female' 'male' 'male' 'male'\n",
      " 'female' 'male' 'female' 'male' 'female' 'male' 'male' 'male' 'female'\n",
      " 'male' 'male' 'male' 'female' 'male' 'female' 'male' 'male' 'female'\n",
      " 'female' 'female' 'male' 'male' 'female' 'male' 'male' 'male' 'female'\n",
      " 'female' 'female' 'male' 'female' 'male' 'male' 'male' 'male' 'female'\n",
      " 'male' 'female' 'male' 'female' 'female' 'female' 'female' 'male'\n",
      " 'female' 'female' 'male' 'male' 'male' 'female' 'male' 'female' 'male'\n",
      " 'male' 'male' 'male' 'female' 'female' 'male' 'female' 'male' 'female'\n",
      " 'male' 'male' 'male' 'female' 'female' 'male' 'male' 'male' 'female'\n",
      " 'male' 'male' 'female' 'female' 'male' 'male' 'male' 'female' 'female'\n",
      " 'female' 'male' 'male' 'male' 'female' 'male' 'female' 'male' 'male'\n",
      " 'female' 'male' 'female' 'female' 'female' 'male' 'male' 'male' 'male'\n",
      " 'male' 'male' 'male' 'male' 'female' 'female' 'female' 'female' 'male'\n",
      " 'female' 'male' 'male' 'male' 'male' 'female' 'female' 'male' 'female'\n",
      " 'male' 'male' 'male' 'male' 'female' 'male' 'female' 'female' 'male'\n",
      " 'male' 'male' 'male' 'female' 'female' 'male' 'male' 'female' 'male'\n",
      " 'male' 'male' 'male' 'female' 'female' 'male' 'male' 'female' 'female'\n",
      " 'female' 'male' 'male' 'male' 'female' 'female' 'male' 'male' 'female'\n",
      " 'male' 'male' 'male' 'female' 'male' 'female' 'male' 'male' 'male'\n",
      " 'female' 'female' 'male' 'male' 'female' 'male' 'female' 'female' 'male'\n",
      " 'male' 'male' 'male' 'female' 'female' 'female' 'female' 'female' 'male'\n",
      " 'male' 'male' 'female' 'male' 'female' 'male' 'female' 'male' 'male'\n",
      " 'male' 'female' 'female' 'male' 'female' 'female' 'male' 'male' 'male'\n",
      " 'female' 'female' 'male' 'male' 'female' 'male' 'female' 'female'\n",
      " 'female' 'male' 'male' 'male' 'female' 'male' 'male' 'male' 'male' 'male'\n",
      " 'male' 'male' 'male' 'female' 'male' 'male' 'male' 'male' 'male' 'male'\n",
      " 'male' 'male' 'male' 'female' 'female' 'male' 'male' 'female' 'female'\n",
      " 'male' 'female' 'female' 'male' 'female' 'female' 'male' 'female'\n",
      " 'female' 'male' 'male' 'male' 'male' 'female' 'female' 'male' 'female'\n",
      " 'male' 'male' 'male' 'male' 'male' 'male' 'male' 'female' 'male' 'male'\n",
      " 'female' 'female' 'female' 'male' 'male' 'female' 'female' 'female'\n",
      " 'male' 'male' 'female' 'female' 'female' 'male' 'male' 'female' 'female'\n",
      " 'male' 'female' 'female' 'male' 'female' 'female' 'female' 'female'\n",
      " 'male' 'male' 'female' 'female' 'male' 'female' 'male' 'male' 'male'\n",
      " 'male' 'male' 'female' 'male' 'female' 'male' 'male' 'male' 'male' 'male'\n",
      " 'male' 'male' 'female' 'male' 'female' 'female' 'male' 'male' 'male'\n",
      " 'male' 'male' 'male' 'male' 'female' 'female' 'female' 'male' 'male'\n",
      " 'male' 'male' 'female' 'female' 'male' 'male' 'male' 'male' 'male' 'male'\n",
      " 'female' 'male' 'male' 'male' 'female' 'female' 'male' 'female' 'male'\n",
      " 'male' 'male' 'female' 'male' 'male' 'female' 'female' 'female' 'female'\n",
      " 'male' 'male' 'female' 'female' 'female' 'female' 'female' 'female'\n",
      " 'male' 'female' 'male' 'male' 'female' 'male' 'female' 'male' 'female'\n",
      " 'male' 'female' 'female' 'female' 'male' 'male' 'female' 'male' 'male'\n",
      " 'male' 'female' 'female' 'female' 'female' 'female' 'female' 'male'\n",
      " 'female' 'female' 'female' 'male' 'female' 'male' 'male' 'male' 'female'\n",
      " 'female' 'male' 'female' 'male' 'male' 'female' 'male' 'female' 'female'\n",
      " 'male' 'male' 'male' 'male' 'male' 'female' 'male' 'male' 'male' 'female'\n",
      " 'male' 'female' 'male' 'female' 'female' 'male' 'female' 'female'\n",
      " 'female' 'male' 'female' 'male' 'male' 'female' 'female' 'male' 'male'\n",
      " 'female' 'female' 'male' 'male' 'male' 'male' 'male' 'female' 'male'\n",
      " 'female' 'female' 'male' 'female' 'female' 'female' 'male' 'female'\n",
      " 'female' 'female' 'female' 'female' 'male' 'female' 'female' 'female'\n",
      " 'female' 'male' 'male' 'male' 'male' 'male' 'male' 'female' 'female'\n",
      " 'female' 'male' 'female' 'male' 'male' 'female' 'female' 'female' 'male'\n",
      " 'female' 'male' 'male' 'male' 'female' 'male' 'female' 'female' 'female'\n",
      " 'male' 'female' 'male' 'female' 'male' 'male' 'male' 'male' 'female'\n",
      " 'male' 'male' 'male' 'male' 'female' 'female' 'male' 'male' 'male'\n",
      " 'female' 'male' 'male' 'male' 'female' 'male' 'female' 'male' 'male'\n",
      " 'male' 'female' 'male' 'female' 'female' 'female' 'female' 'male' 'male'\n",
      " 'male' 'female' 'female' 'male' 'male' 'female' 'female' 'male' 'female'\n",
      " 'female' 'male' 'female' 'male' 'male' 'male' 'male' 'male' 'male'\n",
      " 'female' 'female' 'female' 'male' 'female' 'male' 'female' 'male' 'male'\n",
      " 'female' 'male' 'female' 'female' 'female' 'female' 'male' 'male' 'male'\n",
      " 'male' 'male' 'female' 'male' 'male' 'male' 'female' 'male' 'female'\n",
      " 'male' 'female' 'female' 'female' 'male' 'female' 'male' 'male' 'male'\n",
      " 'male' 'female' 'female' 'male' 'female' 'female' 'female' 'female'\n",
      " 'male' 'female' 'female' 'male' 'male' 'female' 'female' 'female' 'male'\n",
      " 'male' 'female' 'male' 'female' 'female' 'male' 'male' 'female' 'male'\n",
      " 'male' 'male' 'male' 'male' 'female' 'female' 'male' 'male' 'male'\n",
      " 'female']\n"
     ]
    }
   ],
   "source": [
    "ypred_m6=m6.predict(x_test)\n",
    "print(ypred_m6)"
   ]
  },
  {
   "cell_type": "code",
   "execution_count": 44,
   "id": "eb707a5f",
   "metadata": {},
   "outputs": [
    {
     "name": "stdout",
     "output_type": "stream",
     "text": [
      "[[229 101]\n",
      " [ 54 250]]\n"
     ]
    }
   ],
   "source": [
    "cm_m6=confusion_matrix(y_test,ypred_m6)\n",
    "print(cm_m6)"
   ]
  },
  {
   "cell_type": "code",
   "execution_count": 45,
   "id": "c66a1251",
   "metadata": {},
   "outputs": [
    {
     "name": "stdout",
     "output_type": "stream",
     "text": [
      "              precision    recall  f1-score   support\n",
      "\n",
      "      female       0.81      0.69      0.75       330\n",
      "        male       0.71      0.82      0.76       304\n",
      "\n",
      "    accuracy                           0.76       634\n",
      "   macro avg       0.76      0.76      0.76       634\n",
      "weighted avg       0.76      0.76      0.75       634\n",
      "\n"
     ]
    }
   ],
   "source": [
    "print(classification_report(y_test,ypred_m6))"
   ]
  },
  {
   "cell_type": "markdown",
   "id": "9148ba6d",
   "metadata": {},
   "source": [
    "##### applying logistic regression"
   ]
  },
  {
   "cell_type": "code",
   "execution_count": 46,
   "id": "db613f6d",
   "metadata": {},
   "outputs": [],
   "source": [
    "from sklearn.linear_model import LogisticRegression"
   ]
  },
  {
   "cell_type": "code",
   "execution_count": 47,
   "id": "583103e1",
   "metadata": {},
   "outputs": [
    {
     "data": {
      "text/plain": [
       "LogisticRegression(solver='liblinear')"
      ]
     },
     "execution_count": 47,
     "metadata": {},
     "output_type": "execute_result"
    }
   ],
   "source": [
    "m5=LogisticRegression(solver=\"liblinear\")\n",
    "m5.fit(x_train,y_train)"
   ]
  },
  {
   "cell_type": "code",
   "execution_count": 48,
   "id": "0434adfa",
   "metadata": {},
   "outputs": [
    {
     "name": "stdout",
     "output_type": "stream",
     "text": [
      "Training score 0.9100236779794791\n",
      "Testing score 0.9132492113564669\n"
     ]
    }
   ],
   "source": [
    "print(\"Training score\",m5.score(x_train,y_train))\n",
    "print(\"Testing score\",m5.score(x_test,y_test))"
   ]
  },
  {
   "cell_type": "code",
   "execution_count": 49,
   "id": "9e111184",
   "metadata": {},
   "outputs": [
    {
     "name": "stdout",
     "output_type": "stream",
     "text": [
      "['female' 'female' 'male' 'female' 'female' 'male' 'male' 'male' 'female'\n",
      " 'male' 'male' 'female' 'female' 'female' 'male' 'male' 'female' 'female'\n",
      " 'male' 'male' 'male' 'female' 'male' 'male' 'male' 'male' 'female' 'male'\n",
      " 'female' 'male' 'female' 'male' 'male' 'female' 'male' 'male' 'male'\n",
      " 'female' 'female' 'female' 'female' 'male' 'male' 'female' 'female'\n",
      " 'female' 'male' 'female' 'female' 'female' 'male' 'male' 'female'\n",
      " 'female' 'female' 'female' 'female' 'female' 'male' 'male' 'male' 'male'\n",
      " 'male' 'female' 'male' 'male' 'female' 'female' 'female' 'male' 'female'\n",
      " 'female' 'male' 'male' 'male' 'male' 'male' 'female' 'male' 'male' 'male'\n",
      " 'female' 'female' 'female' 'female' 'female' 'male' 'male' 'male' 'male'\n",
      " 'male' 'female' 'female' 'female' 'male' 'male' 'female' 'male' 'female'\n",
      " 'female' 'male' 'male' 'male' 'male' 'female' 'female' 'female' 'male'\n",
      " 'male' 'female' 'female' 'male' 'female' 'male' 'female' 'male' 'female'\n",
      " 'male' 'female' 'female' 'male' 'male' 'male' 'male' 'male' 'male' 'male'\n",
      " 'male' 'female' 'female' 'female' 'female' 'male' 'male' 'male' 'male'\n",
      " 'male' 'female' 'female' 'female' 'male' 'male' 'female' 'female' 'male'\n",
      " 'male' 'male' 'male' 'female' 'female' 'male' 'male' 'male' 'male'\n",
      " 'female' 'female' 'male' 'male' 'female' 'male' 'male' 'male' 'male'\n",
      " 'male' 'female' 'male' 'male' 'male' 'female' 'female' 'female' 'male'\n",
      " 'male' 'male' 'female' 'male' 'male' 'female' 'male' 'female' 'male'\n",
      " 'female' 'male' 'female' 'male' 'female' 'female' 'male' 'female' 'male'\n",
      " 'male' 'female' 'female' 'female' 'male' 'male' 'female' 'male' 'male'\n",
      " 'female' 'female' 'female' 'male' 'female' 'male' 'male' 'male' 'male'\n",
      " 'male' 'female' 'male' 'female' 'female' 'female' 'male' 'female'\n",
      " 'female' 'male' 'female' 'female' 'male' 'female' 'female' 'female'\n",
      " 'female' 'female' 'male' 'female' 'male' 'female' 'female' 'female'\n",
      " 'male' 'male' 'male' 'female' 'male' 'male' 'female' 'male' 'male'\n",
      " 'female' 'female' 'male' 'female' 'male' 'female' 'male' 'male' 'male'\n",
      " 'male' 'female' 'male' 'male' 'female' 'female' 'male' 'female' 'female'\n",
      " 'female' 'female' 'female' 'male' 'male' 'female' 'female' 'male'\n",
      " 'female' 'male' 'male' 'female' 'male' 'male' 'female' 'female' 'male'\n",
      " 'female' 'female' 'male' 'male' 'male' 'male' 'female' 'male' 'male'\n",
      " 'male' 'male' 'female' 'female' 'female' 'male' 'male' 'female' 'female'\n",
      " 'female' 'male' 'male' 'female' 'female' 'male' 'female' 'male' 'female'\n",
      " 'female' 'male' 'female' 'male' 'male' 'female' 'male' 'female' 'female'\n",
      " 'male' 'male' 'female' 'male' 'female' 'male' 'male' 'male' 'male' 'male'\n",
      " 'male' 'female' 'male' 'female' 'male' 'male' 'female' 'female' 'female'\n",
      " 'male' 'male' 'female' 'male' 'female' 'male' 'male' 'male' 'male' 'male'\n",
      " 'male' 'male' 'female' 'female' 'female' 'female' 'male' 'male' 'male'\n",
      " 'female' 'female' 'female' 'male' 'male' 'male' 'male' 'male' 'male'\n",
      " 'female' 'male' 'male' 'male' 'female' 'female' 'female' 'female' 'male'\n",
      " 'male' 'male' 'male' 'male' 'male' 'female' 'female' 'female' 'female'\n",
      " 'female' 'male' 'female' 'female' 'female' 'male' 'female' 'female'\n",
      " 'male' 'female' 'male' 'male' 'female' 'male' 'female' 'male' 'male'\n",
      " 'female' 'female' 'female' 'male' 'male' 'male' 'male' 'male' 'male'\n",
      " 'male' 'female' 'female' 'female' 'female' 'female' 'female' 'male'\n",
      " 'female' 'male' 'female' 'female' 'female' 'male' 'male' 'male' 'male'\n",
      " 'female' 'male' 'female' 'male' 'male' 'male' 'male' 'female' 'female'\n",
      " 'male' 'male' 'male' 'male' 'male' 'female' 'female' 'male' 'male'\n",
      " 'female' 'male' 'male' 'male' 'female' 'male' 'male' 'female' 'female'\n",
      " 'male' 'male' 'male' 'female' 'female' 'male' 'male' 'male' 'male'\n",
      " 'female' 'female' 'male' 'male' 'male' 'male' 'male' 'male' 'male'\n",
      " 'female' 'female' 'male' 'female' 'female' 'female' 'male' 'female'\n",
      " 'male' 'female' 'female' 'male' 'male' 'female' 'male' 'female' 'female'\n",
      " 'male' 'male' 'female' 'male' 'female' 'male' 'female' 'female' 'female'\n",
      " 'male' 'female' 'male' 'male' 'male' 'female' 'female' 'female' 'female'\n",
      " 'male' 'male' 'male' 'female' 'male' 'female' 'female' 'male' 'male'\n",
      " 'female' 'male' 'male' 'male' 'male' 'male' 'male' 'female' 'male'\n",
      " 'female' 'male' 'male' 'female' 'male' 'female' 'male' 'female' 'female'\n",
      " 'male' 'male' 'female' 'female' 'male' 'female' 'male' 'female' 'male'\n",
      " 'female' 'female' 'female' 'female' 'female' 'female' 'female' 'male'\n",
      " 'male' 'female' 'female' 'female' 'male' 'female' 'female' 'male' 'male'\n",
      " 'male' 'female' 'female' 'female' 'male' 'male' 'male' 'female' 'male'\n",
      " 'male' 'female' 'male' 'male' 'male' 'male' 'female' 'male' 'male'\n",
      " 'female' 'male' 'female' 'female' 'female' 'female' 'male' 'female'\n",
      " 'male' 'male' 'female' 'female' 'male' 'female' 'female' 'female' 'male'\n",
      " 'female' 'female' 'female' 'female' 'female' 'female' 'male' 'male'\n",
      " 'male' 'male' 'male' 'female' 'female' 'female' 'female' 'female'\n",
      " 'female' 'female' 'male' 'female' 'male' 'male' 'male' 'female' 'female'\n",
      " 'female' 'female' 'male' 'female' 'male' 'female' 'female' 'male' 'male'\n",
      " 'female' 'male' 'male' 'male' 'male' 'female' 'female' 'female' 'male'\n",
      " 'male' 'male' 'female']\n"
     ]
    }
   ],
   "source": [
    "ypred_m5=m5.predict(x_test)\n",
    "print(ypred_m5)"
   ]
  },
  {
   "cell_type": "code",
   "execution_count": 50,
   "id": "7d670323",
   "metadata": {},
   "outputs": [
    {
     "name": "stdout",
     "output_type": "stream",
     "text": [
      "[[287  43]\n",
      " [ 12 292]]\n"
     ]
    }
   ],
   "source": [
    "cm_m5=confusion_matrix(y_test,ypred_m5)\n",
    "print(cm_m5)"
   ]
  },
  {
   "cell_type": "code",
   "execution_count": 51,
   "id": "2ae63f24",
   "metadata": {},
   "outputs": [
    {
     "name": "stdout",
     "output_type": "stream",
     "text": [
      "              precision    recall  f1-score   support\n",
      "\n",
      "      female       0.96      0.87      0.91       330\n",
      "        male       0.87      0.96      0.91       304\n",
      "\n",
      "    accuracy                           0.91       634\n",
      "   macro avg       0.92      0.92      0.91       634\n",
      "weighted avg       0.92      0.91      0.91       634\n",
      "\n"
     ]
    }
   ],
   "source": [
    "print(classification_report(y_test,ypred_m5))"
   ]
  },
  {
   "cell_type": "code",
   "execution_count": null,
   "id": "5f0b7c32",
   "metadata": {},
   "outputs": [],
   "source": []
  }
 ],
 "metadata": {
  "kernelspec": {
   "display_name": "Python 3 (ipykernel)",
   "language": "python",
   "name": "python3"
  },
  "language_info": {
   "codemirror_mode": {
    "name": "ipython",
    "version": 3
   },
   "file_extension": ".py",
   "mimetype": "text/x-python",
   "name": "python",
   "nbconvert_exporter": "python",
   "pygments_lexer": "ipython3",
   "version": "3.9.7"
  }
 },
 "nbformat": 4,
 "nbformat_minor": 5
}
